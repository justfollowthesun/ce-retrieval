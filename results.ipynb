{
 "cells": [
  {
   "cell_type": "code",
   "execution_count": 1,
   "metadata": {},
   "outputs": [],
   "source": [
    "import pickle\n",
    "import numpy as np\n",
    "from eval.matrix_approx_zeshel import plot_heat_map"
   ]
  },
  {
   "cell_type": "code",
   "execution_count": 2,
   "metadata": {},
   "outputs": [],
   "source": [
    "with open('results/pro_wrestling/ment_to_ent_scores_n_m_100_n_e_10133_all_layers_False.pkl', 'rb') as f:\n",
    "    res = pickle.load(f)"
   ]
  },
  {
   "cell_type": "code",
   "execution_count": 6,
   "metadata": {},
   "outputs": [
    {
     "name": "stdout",
     "output_type": "stream",
     "text": [
      "ment_to_ent_scores <class 'torch.Tensor'>\n"
     ]
    },
    {
     "ename": "AttributeError",
     "evalue": "'Tensor' object has no attribute 'items'",
     "output_type": "error",
     "traceback": [
      "\u001b[0;31m---------------------------------------------------------------------------\u001b[0m",
      "\u001b[0;31mAttributeError\u001b[0m                            Traceback (most recent call last)",
      "Cell \u001b[0;32mIn[6], line 3\u001b[0m\n\u001b[1;32m      1\u001b[0m \u001b[38;5;28;01mfor\u001b[39;00m key \u001b[38;5;129;01min\u001b[39;00m res\u001b[38;5;241m.\u001b[39mkeys():\n\u001b[1;32m      2\u001b[0m     \u001b[38;5;28mprint\u001b[39m(key, \u001b[38;5;28mtype\u001b[39m(res[key]))\n\u001b[0;32m----> 3\u001b[0m     \u001b[38;5;28mprint\u001b[39m(res[key]\u001b[38;5;241m.\u001b[39mitems())\n",
      "\u001b[0;31mAttributeError\u001b[0m: 'Tensor' object has no attribute 'items'"
     ]
    }
   ],
   "source": [
    "for key in res.keys():\n",
    "    print(key, type(res[key]))\n",
    "    print(res[key].items())"
   ]
  },
  {
   "cell_type": "code",
   "execution_count": 8,
   "metadata": {},
   "outputs": [
    {
     "name": "stdout",
     "output_type": "stream",
     "text": [
      "Python 3.11.5 (main, Sep 11 2023, 13:54:46) [GCC 11.2.0]\n",
      "Type 'copyright', 'credits' or 'license' for more information\n",
      "IPython 8.15.0 -- An enhanced Interactive Python. Type '?' for help.\n",
      "\n",
      "\n",
      "\n",
      "\n",
      "\n",
      "\n",
      "\n",
      "\n",
      "\n",
      "\n",
      "---------------------------------------------------------------------------\n",
      "FileNotFoundError                         Traceback (most recent call last)\n",
      "File ~/Yandex.Disk/Studies/NLA/ce-retrieval/eval/matrix_approx_zeshel.py:177, in plot_heat_map(val_matrix, row_vals, col_vals, metric, top_k, curr_res_dir, title, fname)\n",
      "    176 if fname is None:\n",
      "--> 177 \tplt.savefig(f\"{curr_res_dir}/{metric}_{top_k}.pdf\")\n",
      "    178 else:\n",
      "\n",
      "File ~/anaconda3/lib/python3.11/site-packages/matplotlib/pyplot.py:1023, in savefig(*args, **kwargs)\n",
      "   1022 fig = gcf()\n",
      "-> 1023 res = fig.savefig(*args, **kwargs)\n",
      "   1024 fig.canvas.draw_idle()  # Need this if 'transparent=True', to reset colors.\n",
      "\n",
      "File ~/anaconda3/lib/python3.11/site-packages/matplotlib/figure.py:3378, in Figure.savefig(self, fname, transparent, **kwargs)\n",
      "   3375         stack.enter_context(\n",
      "   3376             ax.patch._cm_set(facecolor='none', edgecolor='none'))\n",
      "-> 3378 self.canvas.print_figure(fname, **kwargs)\n",
      "\n",
      "File ~/anaconda3/lib/python3.11/site-packages/matplotlib/backend_bases.py:2366, in FigureCanvasBase.print_figure(self, filename, dpi, facecolor, edgecolor, orientation, format, bbox_inches, pad_inches, bbox_extra_artists, backend, **kwargs)\n",
      "   2365     with cbook._setattr_cm(self.figure, dpi=dpi):\n",
      "-> 2366         result = print_method(\n",
      "   2367             filename,\n",
      "   2368             facecolor=facecolor,\n",
      "   2369             edgecolor=edgecolor,\n",
      "   2370             orientation=orientation,\n",
      "   2371             bbox_inches_restore=_bbox_inches_restore,\n",
      "   2372             **kwargs)\n",
      "   2373 finally:\n",
      "\n",
      "File ~/anaconda3/lib/python3.11/site-packages/matplotlib/backend_bases.py:2232, in FigureCanvasBase._switch_canvas_and_return_print_method.<locals>.<lambda>(*args, **kwargs)\n",
      "   2231     skip = optional_kws - {*inspect.signature(meth).parameters}\n",
      "-> 2232     print_method = functools.wraps(meth)(lambda *args, **kwargs: meth(\n",
      "   2233         *args, **{k: v for k, v in kwargs.items() if k not in skip}))\n",
      "   2234 else:  # Let third-parties do as they see fit.\n",
      "\n",
      "File ~/anaconda3/lib/python3.11/site-packages/matplotlib/backends/backend_pdf.py:2813, in FigureCanvasPdf.print_pdf(self, filename, bbox_inches_restore, metadata)\n",
      "   2812 else:\n",
      "-> 2813     file = PdfFile(filename, metadata=metadata)\n",
      "   2814 try:\n",
      "\n",
      "File ~/anaconda3/lib/python3.11/site-packages/matplotlib/backends/backend_pdf.py:714, in PdfFile.__init__(self, filename, metadata)\n",
      "    713 self.tell_base = 0\n",
      "--> 714 fh, opened = cbook.to_filehandle(filename, \"wb\", return_opened=True)\n",
      "    715 if not opened:\n",
      "\n",
      "File ~/anaconda3/lib/python3.11/site-packages/matplotlib/cbook/__init__.py:494, in to_filehandle(fname, flag, return_opened, encoding)\n",
      "    493 else:\n",
      "--> 494     fh = open(fname, flag, encoding=encoding)\n",
      "    495 opened = True\n",
      "\n",
      "FileNotFoundError: [Errno 2] No such file or directory: 'res/pro_wrestling/attention_100.pdf'\n",
      "\n",
      "During handling of the above exception, another exception occurred:\n",
      "\n",
      "NameError                                 Traceback (most recent call last)\n",
      "Cell In[1], line 1\n",
      "----> 1 vf\n",
      "\n",
      "NameError: name 'vf' is not defined\n",
      "\n",
      "\n",
      "\n",
      "\n",
      "\n",
      "\n"
     ]
    }
   ],
   "source": [
    "plot_heat_map(\n",
    "    res['ment_to_ent_scores'],\n",
    "    row_vals=np.arange(1, 101), \n",
    "    col_vals=np.arange(1, 101), \n",
    "    metric = 'attention',\n",
    "    top_k = 100, \n",
    "    curr_res_dir = 'res/pro_wrestling'\n",
    "    )"
   ]
  },
  {
   "cell_type": "code",
   "execution_count": null,
   "metadata": {},
   "outputs": [],
   "source": []
  }
 ],
 "metadata": {
  "kernelspec": {
   "display_name": "nla_project",
   "language": "python",
   "name": "python3"
  },
  "language_info": {
   "codemirror_mode": {
    "name": "ipython",
    "version": 3
   },
   "file_extension": ".py",
   "mimetype": "text/x-python",
   "name": "python",
   "nbconvert_exporter": "python",
   "pygments_lexer": "ipython3",
   "version": "3.11.5"
  }
 },
 "nbformat": 4,
 "nbformat_minor": 2
}
